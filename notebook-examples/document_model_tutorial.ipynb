{
 "cells": [
  {
   "cell_type": "code",
   "execution_count": 54,
   "metadata": {
    "collapsed": true
   },
   "outputs": [],
   "source": [
    "%matplotlib inline\n",
    "\n",
    "# Standard imports\n",
    "import os\n",
    "import sys\n",
    "\n",
    "# Data science imports\n",
    "import pandas\n",
    "import matplotlib.pyplot as plt"
   ]
  },
  {
   "cell_type": "code",
   "execution_count": 13,
   "metadata": {},
   "outputs": [],
   "source": [
    "# Setup path\n",
    "sys.path.append(\"../\")\n",
    "sys.path.append(\"../contraxsuite_services/\")"
   ]
  },
  {
   "cell_type": "code",
   "execution_count": 15,
   "metadata": {},
   "outputs": [],
   "source": [
    "# Django imports\n",
    "import django\n",
    "from django.db import IntegrityError\n",
    "\n",
    "# Setup django environment\n",
    "os.environ.setdefault(\"DJANGO_SETTINGS_MODULE\", \"config.settings.local\")\n",
    "django.setup()"
   ]
  },
  {
   "cell_type": "code",
   "execution_count": 16,
   "metadata": {
    "collapsed": true
   },
   "outputs": [],
   "source": [
    "# Import document model\n",
    "from contraxsuite_services.apps.document import *"
   ]
  },
  {
   "cell_type": "markdown",
   "metadata": {},
   "source": [
    "## Iterating through documents and text units\n",
    "\n",
    "Let's start by learning to iterate through documents. \n",
    "\n",
    "The code below demonstrates how to iterate through the first 10 `Document` objects in the system."
   ]
  },
  {
   "cell_type": "code",
   "execution_count": 18,
   "metadata": {},
   "outputs": [
    {
     "name": "stdout",
     "output_type": "stream",
     "text": [
      "Document (type=software_license, name=1000297_1999-03-16_SOFTWARE LICENSE AGREEMENT.txt)\n",
      "Document (type=software_license, name=1000495_2003-03-26_AMENDMENT TO OEM-IN SOFTWARE LICENSE AGREEMENT.txt)\n",
      "Document (type=service, name=1001082_2003-05-06_EX-10.1 SATELLITE SERVICE AGREEMENT.txt)\n",
      "Document (type=service, name=1001082_2003-11-10_EX-10.2 SATELLITE SERVICE AGREEMENT.txt)\n",
      "Document (type=service, name=1001082_2004-05-06_AMENDMENT NO. 1 TO SATELLITE SERVICE AGREEMENT.txt)\n",
      "Document (type=service, name=1001082_2004-05-06_AMENDMENT NO. 3 TO SATELLITE SERVICE AGREEMENT.txt)\n",
      "Document (type=service, name=1001082_2004-05-06_SATELLITE SERVICE AGREEMENT.txt)\n",
      "Document (type=service, name=1001082_2004-05-06_WHOLE RF CHANNEL SERVICE AGREEMENT.txt)\n",
      "Document (type=service, name=1001082_2004-08-09_AMENDMENT NO. 2 TO SATELLITE SERVICE AGREEMENT.txt)\n",
      "Document (type=service, name=1001082_2004-08-09_SECOND AMENDMENT TO WHOLE RF CHANNEL SERVICE AGREEMENT.txt)\n"
     ]
    }
   ],
   "source": [
    "# Iterate and print\n",
    "for d in Document.objects.all()[0:10]:\n",
    "    print(d)"
   ]
  },
  {
   "cell_type": "markdown",
   "metadata": {},
   "source": [
    "### Examining text inside of documents\n",
    "The code below next demonstrates how to print the first three paragraphs of the first documents."
   ]
  },
  {
   "cell_type": "code",
   "execution_count": 28,
   "metadata": {},
   "outputs": [
    {
     "name": "stdout",
     "output_type": "stream",
     "text": [
      "Document (type=software_license, name=1000297_1999-03-16_SOFTWARE LICENSE AGREEMENT.txt)\n",
      "<PAGE>   1 EXHIBIT 10.28...\n",
      "US/INTELICOM INC. SOFTWARE LICENSE AGREEMENT...\n",
      "THIS AGREEMENT, made and entered into as of the seventh day of April, 1998, by a...\n",
      "RECITALS:  A. US/INTELICOM is engaged in developing and licensing application so...\n",
      "B. US/INTELICOM has the exclusive right, title and interest in and to said appli...\n",
      "================================\n",
      "Document (type=software_license, name=1000495_2003-03-26_AMENDMENT TO OEM-IN SOFTWARE LICENSE AGREEMENT.txt)\n",
      "Amendment No. 1 To OEM-IN Software License Agreement...\n",
      "This Amendment is the First Amendment (\"Amendment No. 1\") to the OEM-IN Software...\n",
      "Whereas, the Parties desire to amend Exhibit A, Software and Royalties, and Exhi...\n",
      "Now therefore, the Parties agree as follows:  1. Exhibit A and Exhibit G, attach...\n",
      "IN WITNESS WHEREOF, the parties have executed this Amendment No. 1, as of the da...\n",
      "================================\n",
      "Document (type=service, name=1001082_2003-05-06_EX-10.1 SATELLITE SERVICE AGREEMENT.txt)\n",
      "exv10w1...\n",
      "EXHIBIT 10.1...\n",
      "SATELLITE SERVICE AGREEMENT...\n",
      "THIS AGREEMENT between SES Americom, Inc., as agent for SES Americom California,...\n",
      "ARTICLE 1. SERVICE PROVIDED...\n",
      "================================\n"
     ]
    }
   ],
   "source": [
    "# Iterate through documents\n",
    "for d in Document.objects.all()[0:3]:\n",
    "    # Output document header\n",
    "    print(d)\n",
    "    \n",
    "    # Iterate through first three paragraphs\n",
    "    for tu in d.textunit_set.filter(unit_type=\"paragraph\").order_by(\"id\").all()[0:5]:\n",
    "        print(tu.text[0:min(80, len(tu.text))] + \"...\")\n",
    "    \n",
    "    # Pretty-printing\n",
    "    print(\"=\"*32)"
   ]
  },
  {
   "cell_type": "markdown",
   "metadata": {},
   "source": [
    "### Adding document properties\n",
    "\n",
    "The code below next demonstrates how to add a key-value property to a Document object."
   ]
  },
  {
   "cell_type": "code",
   "execution_count": 32,
   "metadata": {},
   "outputs": [],
   "source": [
    "# Get target document\n",
    "d = Document.objects.first()\n",
    "my_property = DocumentProperty()\n",
    "my_property.document = d\n",
    "my_property.key = \"key\"\n",
    "my_property.value = \"value\"\n",
    "my_property.save()"
   ]
  },
  {
   "cell_type": "code",
   "execution_count": 41,
   "metadata": {},
   "outputs": [
    {
     "name": "stdout",
     "output_type": "stream",
     "text": [
      "DocumentProperty (document=Document (type=software_license, name=1000297_1999-03-16_SOFTWARE LICENSE AGREEMENT.txt), key=key, value=value\n"
     ]
    }
   ],
   "source": [
    "# Iterate through all \"key\" properties\n",
    "for p in DocumentProperty.objects.filter(key=\"key\").all():\n",
    "    print(p)"
   ]
  },
  {
   "cell_type": "markdown",
   "metadata": {},
   "source": [
    "## Using ThingUsage objects\n",
    "\n",
    "The code below demonstrates a number of ThingUsage patterns,\n",
    "including DateUsage, EntityUsage, and PartyUsage."
   ]
  },
  {
   "cell_type": "code",
   "execution_count": 46,
   "metadata": {},
   "outputs": [
    {
     "name": "stdout",
     "output_type": "stream",
     "text": [
      "1000297_1999-03-16_SOFTWARE LICENSE AGREEMENT.txt: Licensee agrees to remit to...3 days\n",
      "1000297_1999-03-16_SOFTWARE LICENSE AGREEMENT.txt: (d)      Any notice or othe...4 days\n",
      "1000297_1999-03-16_SOFTWARE LICENSE AGREEMENT.txt: herein within fifteen (15) ...15 days\n",
      "1000297_1999-03-16_SOFTWARE LICENSE AGREEMENT.txt: If the performance of all o...30 days\n",
      "1000297_1999-03-16_SOFTWARE LICENSE AGREEMENT.txt: (ii)     the breach by Lice...30 days\n",
      "1000297_1999-03-16_SOFTWARE LICENSE AGREEMENT.txt: Following the initial term,...60 days\n",
      "1000297_1999-03-16_SOFTWARE LICENSE AGREEMENT.txt: The term of this license sh...90 days\n",
      "1000297_1999-03-16_SOFTWARE LICENSE AGREEMENT.txt: This monthly maintenance an...6 months\n",
      "1000297_1999-03-16_SOFTWARE LICENSE AGREEMENT.txt: (5,000) Phones containing t...12 months\n",
      "1000297_1999-03-16_SOFTWARE LICENSE AGREEMENT.txt: (c)      In addition, US/IN...12 months\n"
     ]
    }
   ],
   "source": [
    "# Iterate through first 10 DateDuration usages\n",
    "for ddu in DateDurationUsage.objects.all()[0:10]:\n",
    "    # Output summary\n",
    "    print(ddu.text_unit.document.name + \": \" + ddu.text_unit.text[0:min(80, len(tu.text))] + \"...\" + ddu.duration_str)"
   ]
  },
  {
   "cell_type": "code",
   "execution_count": 49,
   "metadata": {},
   "outputs": [
    {
     "name": "stdout",
     "output_type": "stream",
     "text": [
      "1000297_1999-03-16_SOFTWARE LICENSE AGREEMENT.txt: 4-7-98 Date                ...1998-04-07\n",
      "1000297_1999-03-16_SOFTWARE LICENSE AGREEMENT.txt: This monthly maintenance an...1998-09-01\n",
      "1000297_1999-03-16_SOFTWARE LICENSE AGREEMENT.txt: This monthly maintenance an...1999-09-30\n",
      "1000297_1999-03-16_SOFTWARE LICENSE AGREEMENT.txt: 4-7-98 Date                ...1998-04-07\n",
      "1000297_1999-03-16_SOFTWARE LICENSE AGREEMENT.txt: The arrangement will then a...1998-09-01\n",
      "1000297_1999-03-16_SOFTWARE LICENSE AGREEMENT.txt: Unless Licensee elects to c...1999-09-30\n",
      "1000495_2003-03-26_AMENDMENT TO OEM-IN SOFTWARE LICENSE AGREEMENT.txt: This Amendment is the First...2002-12-03\n",
      "1000495_2003-03-26_AMENDMENT TO OEM-IN SOFTWARE LICENSE AGREEMENT.txt: \"Agreement\" means that OEM ...2002-12-03\n",
      "1000495_2003-03-26_AMENDMENT TO OEM-IN SOFTWARE LICENSE AGREEMENT.txt: \"Agreement\" means that OEM ...2002-12-03\n",
      "1000495_2003-03-26_AMENDMENT TO OEM-IN SOFTWARE LICENSE AGREEMENT.txt: 1\") to the OEM-IN Software ...2002-12-03\n"
     ]
    }
   ],
   "source": [
    "# Iterate through first 10 Date usages\n",
    "for du in DateUsage.objects.all()[0:10]:\n",
    "    # Output summary\n",
    "    print(du.text_unit.document.name + \": \" + du.text_unit.text[0:min(80, len(tu.text))] + \"...\" + str(du.date))"
   ]
  },
  {
   "cell_type": "code",
   "execution_count": 51,
   "metadata": {},
   "outputs": [
    {
     "name": "stdout",
     "output_type": "stream",
     "text": [
      "1000297_1999-03-16_SOFTWARE LICENSE AGREEMENT.txt: THIS AGREEMENT, made and en...QUINTEL CELLULAR, LLC\n",
      "1000297_1999-03-16_SOFTWARE LICENSE AGREEMENT.txt: THIS AGREEMENT, made and en...US/INTELICOM, INC\n",
      "1000297_1999-03-16_SOFTWARE LICENSE AGREEMENT.txt: THIS AGREEMENT, made and en...QUINTEL CELLULAR, LLC\n",
      "1000297_1999-03-16_SOFTWARE LICENSE AGREEMENT.txt: THIS AGREEMENT, made and en...US/INTELICOM, INC\n",
      "1000495_2003-03-26_AMENDMENT TO OEM-IN SOFTWARE LICENSE AGREEMENT.txt: 4. For legal notices under ...CISCO SYSTEMS, INC\n",
      "1000495_2003-03-26_AMENDMENT TO OEM-IN SOFTWARE LICENSE AGREEMENT.txt: Agreed:                    ...VISUAL NETWORKS OPERATIONS, INC\n",
      "1000495_2003-03-26_AMENDMENT TO OEM-IN SOFTWARE LICENSE AGREEMENT.txt: 1\") to the OEM-IN Software ...CISCO SYSTEMS, INC\n",
      "1000495_2003-03-26_AMENDMENT TO OEM-IN SOFTWARE LICENSE AGREEMENT.txt: For legal notices under thi...CISCO SYSTEMS, INC\n",
      "1000495_2003-03-26_AMENDMENT TO OEM-IN SOFTWARE LICENSE AGREEMENT.txt: 1\") to the OEM-IN Software ...NETWORKS OPERATIONS, INC\n",
      "1000495_2003-03-26_AMENDMENT TO OEM-IN SOFTWARE LICENSE AGREEMENT.txt: Agreed:                    ...VISUAL NETWORKS OPERATIONS, INC\n"
     ]
    }
   ],
   "source": [
    "# Iterate through first 10 Date usages\n",
    "for pu in PartyUsage.objects.all()[0:10]:\n",
    "    # Output summary\n",
    "    print(pu.text_unit.document.name + \": \" + pu.text_unit.text[0:min(60, len(tu.text))] + \"...\" + pu.party.name)"
   ]
  },
  {
   "cell_type": "markdown",
   "metadata": {},
   "source": [
    "## Working with Pandas and Matplotlib\n",
    "\n",
    "Let's try a more exciting example by plotting the distribution of dates."
   ]
  },
  {
   "cell_type": "code",
   "execution_count": 55,
   "metadata": {},
   "outputs": [
    {
     "data": {
      "text/plain": [
       "2004    42\n",
       "2003    28\n",
       "2005    14\n",
       "2008     4\n",
       "2002     4\n",
       "1998     4\n",
       "2006     2\n",
       "1999     2\n",
       "dtype: int64"
      ]
     },
     "execution_count": 55,
     "metadata": {},
     "output_type": "execute_result"
    }
   ],
   "source": [
    "# Iterate through first 10 Date usages\n",
    "year_list = [du.date.year for du in DateUsage.objects.all()[0:100]]\n",
    "year_counts = pandas.Series(year_list).value_counts()\n",
    "year_counts"
   ]
  },
  {
   "cell_type": "code",
   "execution_count": 63,
   "metadata": {},
   "outputs": [
    {
     "data": {
      "image/png": "[encoded data removed]",
      "text/plain": [
       "<matplotlib.figure.Figure at 0x7f74da60a080>"
      ]
     },
     "metadata": {},
     "output_type": "display_data"
    }
   ],
   "source": [
    "# Plot the distribution\n",
    "ax = year_counts.sort_index().plot(kind=\"bar\")\n",
    "_ = ax.set_title(\"Date references by year\")\n",
    "_ = ax.set_ylabel(\"Count\")"
   ]
  }
 ],
 "metadata": {
  "kernelspec": {
   "display_name": "Django Shell-Plus",
   "language": "python",
   "name": "django_extensions"
  },
  "language_info": {
   "codemirror_mode": {
    "name": "ipython",
    "version": 3.0
   },
   "file_extension": ".py",
   "mimetype": "text/x-python",
   "name": "python",
   "nbconvert_exporter": "python",
   "pygments_lexer": "ipython3",
   "version": "3.5.2"
  }
 },
 "nbformat": 4,
 "nbformat_minor": 0
}