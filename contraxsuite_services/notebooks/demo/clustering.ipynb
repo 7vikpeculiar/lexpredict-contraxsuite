{
 "cells": [
  {
   "cell_type": "code",
   "execution_count": 2,
   "metadata": {},
   "outputs": [],
   "source": [
    "# setup django\n",
    "\n",
    "import os\n",
    "import sys\n",
    "sys.path.append('../../')\n",
    "os.environ[\"DJANGO_SETTINGS_MODULE\"] = \"settings\"\n",
    "os.environ.setdefault(\"DJANGO_SETTINGS_MODULE\", \"settings\")\n",
    "import django\n",
    "django.setup()"
   ]
  },
  {
   "cell_type": "code",
   "execution_count": 3,
   "metadata": {},
   "outputs": [],
   "source": [
    "# imports\n",
    "\n",
    "from sklearn.feature_extraction.text import TfidfVectorizer\n",
    "from sklearn.cluster import Birch, DBSCAN, KMeans, MiniBatchKMeans\n",
    "from sklearn.decomposition import PCA\n",
    "\n",
    "import numpy as np\n",
    "import matplotlib.pyplot as plt\n",
    "\n",
    "from apps.document.models import Document"
   ]
  },
  {
   "cell_type": "code",
   "execution_count": 4,
   "metadata": {},
   "outputs": [],
   "source": [
    "# method is one of: Birch, KMeans, MiniBatchKMeans\n",
    "\n",
    "def get_cluster_data(documents=Document.objects.all(),\n",
    "                     n_clusters=3,\n",
    "                     method='KMeans'):\n",
    "\n",
    "    if method not in ['Birch', 'KMeans', 'MiniBatchKMeans']:\n",
    "        method = 'KMeans'\n",
    "\n",
    "    # Get dococuments' data\n",
    "    docs = np.array(documents.values_list('pk', 'name', 'full_text'))\n",
    "    ids, names, data = docs[:, 0], docs[:, 1], docs[:, 2]\n",
    "\n",
    "    # Turning a collection of text documents into numerical feature vectors.\n",
    "    vectorizer = TfidfVectorizer(max_df=0.5, max_features=100,\n",
    "                                 min_df=2, stop_words='english',\n",
    "                                 use_idf=True)\n",
    "    X = vectorizer.fit_transform(data)\n",
    "    terms = vectorizer.get_feature_names()\n",
    "\n",
    "    # Build Cluster model\n",
    "    if method == 'MiniBatchKMeans':\n",
    "        m = MiniBatchKMeans(\n",
    "            n_clusters=n_clusters,\n",
    "            init='k-means++',\n",
    "            n_init=1,\n",
    "            init_size=100,\n",
    "            batch_size=100,\n",
    "            verbose=False)\n",
    "    elif method == 'KMeans':\n",
    "        m = KMeans(\n",
    "            n_clusters=n_clusters,\n",
    "            init='k-means++',\n",
    "            max_iter=100,\n",
    "            n_init=1,\n",
    "            verbose=False)\n",
    "    elif method == 'Birch':\n",
    "        m = Birch(\n",
    "            n_clusters=n_clusters,\n",
    "            threshold=0.5,\n",
    "            branching_factor=50)\n",
    "    m.fit(X)\n",
    "\n",
    "    # transform vectorized documents data into 2D\n",
    "    _X = X.toarray()\n",
    "    pca = PCA(n_components=2).fit(_X)\n",
    "    data2D = pca.transform(_X)\n",
    "\n",
    "    # extract cluster centers\n",
    "    if method == 'Birch':\n",
    "        cluster_centers = m.subcluster_centers_\n",
    "    else:    \n",
    "        cluster_centers = m.cluster_centers_\n",
    "\n",
    "    order_centroids = cluster_centers.argsort()[:, ::-1]\n",
    "    # get cluster labels (0, 1, 2...) and claster terms (mpst common tags)\n",
    "    clusters = m.labels_.tolist()\n",
    "    cluster_ids = set(clusters)\n",
    "    cluster_num = len(cluster_ids)\n",
    "    cluster_terms = [[terms[ind] for ind in order_centroids[i, :5]] for i in range(n_clusters)]\n",
    "\n",
    "    # get 2D cluster centers \n",
    "    centers2D = pca.transform(cluster_centers)\n",
    "\n",
    "    # build result data\n",
    "    cluster_data = []\n",
    "    for cluster_id in cluster_ids:\n",
    "        a_cluster = {\n",
    "            'cluster_id': cluster_id,\n",
    "            'cluster_terms': cluster_terms[cluster_id],\n",
    "            'cluster_name': '-'.join(cluster_terms[cluster_id]),\n",
    "            'centroid_coord': centers2D[cluster_id].tolist() if centers2D is not None else None,\n",
    "            'document_data': [\n",
    "                {'document_id': int(ids[n]),\n",
    "                 'document_name': names[n],\n",
    "                 'coord': data2D[n].tolist()} for n, i in enumerate(clusters) if i == cluster_id]\n",
    "        }\n",
    "        cluster_data.append(a_cluster)\n",
    "\n",
    "    return cluster_data"
   ]
  },
  {
   "cell_type": "code",
   "execution_count": 5,
   "metadata": {},
   "outputs": [],
   "source": [
    "def print_cluster_data(cluster_data):\n",
    "    for cl in cluster_data:\n",
    "        print('='*50)\n",
    "        print('Cluster#%d: %s' % (cl['cluster_id'], cl['cluster_name']))\n",
    "        print('-'*50)\n",
    "        for doc in cl['document_data']:\n",
    "            print('  id=%d, %s' % (doc['document_id'], doc['document_name']))"
   ]
  },
  {
   "cell_type": "code",
   "execution_count": 6,
   "metadata": {},
   "outputs": [],
   "source": [
    "def plot(cluster_data):\n",
    "    cluster_num = len(cluster_data)\n",
    "    colors = ['blue', 'green', 'red', 'cyan', 'magenta', 'yellow', 'black', 'purple', 'pink', 'brown', 'orange', 'teal', 'coral', 'lightblue', 'lime', 'lavender', 'turquoise', 'darkgreen', 'tan', 'salmon', 'gold', 'lightpurple', 'darkred', 'darkblue']\n",
    "    # set chart size\n",
    "    plt.figure(figsize=(12,6))    \n",
    "    # plot clusters\n",
    "    for n, cl in enumerate(cluster_data):\n",
    "        x = [i['coord'][0] for i in cl['document_data']]\n",
    "        y = [i['coord'][1] for i in cl['document_data']]\n",
    "        #color = plt.cm.get_cmap('hsv', max(10, cluster_num))(n)\n",
    "        color = colors[n]\n",
    "        label = 'Cluster#%d: %s' % (cl['cluster_id'], cl['cluster_name'])\n",
    "        plt.scatter(x, y, c=color, s=150, label=label)\n",
    "        plt.legend()\n",
    "    # plot centers\n",
    "    centers_x = [i['centroid_coord'][0] for i in cluster_data]\n",
    "    centers_y = [i['centroid_coord'][1] for i in cluster_data]\n",
    "    plt.scatter(centers_x, centers_y, marker='x', s=100, linewidths=1, c='k')\n",
    "    plt.show() "
   ]
  },
  {
   "cell_type": "code",
   "execution_count": 7,
   "metadata": {},
   "outputs": [
    {
     "name": "stderr",
     "output_type": "stream",
     "text": [
      "/home/alex/dev/michael/contraxsuite/ve/lib/python3.5/site-packages/sklearn/feature_extraction/text.py:1089: FutureWarning: Conversion of the second argument of issubdtype from `float` to `np.floating` is deprecated. In future, it will be treated as `np.float64 == np.dtype(float).type`.\n",
      "  if hasattr(X, 'dtype') and np.issubdtype(X.dtype, np.float):\n"
     ]
    },
    {
     "data": {
      "image/png": "[encoded data removed]",
      "text/plain": [
       "<Figure size 864x432 with 1 Axes>"
      ]
     },
     "metadata": {},
     "output_type": "display_data"
    }
   ],
   "source": [
    "# method is one of: Birch, KMeans, MiniBatchKMeans\n",
    "\n",
    "cluster_data = get_cluster_data(n_clusters=3, method='KMeans')\n",
    "#cluster_data = get_cluster_data(Document.objects.filter(project_id=27), n_clusters=4, method='MiniBatchKMeans')\n",
    "\n",
    "plot(cluster_data)\n",
    "\n",
    "#print_cluster_data(cluster_data)"
   ]
  },
  {
   "cell_type": "code",
   "execution_count": null,
   "metadata": {},
   "outputs": [],
   "source": []
  }
 ],
 "metadata": {
  "kernelspec": {
   "display_name": "Python 3",
   "language": "python",
   "name": "python3"
  },
  "language_info": {
   "codemirror_mode": {
    "name": "ipython",
    "version": 3
   },
   "file_extension": ".py",
   "mimetype": "text/x-python",
   "name": "python",
   "nbconvert_exporter": "python",
   "pygments_lexer": "ipython3",
   "version": "3.6.5"
  }
 },
 "nbformat": 4,
 "nbformat_minor": 2
}
