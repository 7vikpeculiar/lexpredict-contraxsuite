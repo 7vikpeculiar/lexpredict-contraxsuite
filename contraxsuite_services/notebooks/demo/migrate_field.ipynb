{
 "cells": [
  {
   "cell_type": "code",
   "execution_count": 2,
   "metadata": {},
   "outputs": [],
   "source": [
    "# hide warnings\n",
    "import warnings\n",
    "warnings.filterwarnings('ignore')\n",
    "\n",
    "# setup django\n",
    "import os\n",
    "import sys\n",
    "sys.path.append('../../')\n",
    "os.environ[\"DJANGO_SETTINGS_MODULE\"] = \"settings\"\n",
    "os.environ.setdefault(\"DJANGO_SETTINGS_MODULE\", \"settings\")\n",
    "import django\n",
    "django.setup()\n",
    "\n",
    "from django.conf import settings\n",
    "from django.db.models import *"
   ]
  },
  {
   "cell_type": "code",
   "execution_count": 40,
   "metadata": {},
   "outputs": [],
   "source": [
    "from apps.document.models import DocumentField\n",
    "from apps.document.models import DocumentFieldValue\n",
    "from apps.users.models import User\n",
    "\n",
    "class FieldMigration:\n",
    "    def __init__(self,\n",
    "                 old_field_code: str,\n",
    "                 new_field_code: str, \n",
    "                 overwrite_values: bool = False):\n",
    "        self.old_field_code = old_field_code\n",
    "        self.new_field_code = new_field_code\n",
    "        self.overwrite_values = overwrite_values\n",
    "        self.new_field_by_doc = {}\n",
    "        self.count_already_set = 0\n",
    "        self.count_updated = 0\n",
    "        \n",
    "    def migrate(self):\n",
    "        self.old_field = self.find_field_by_code(self.old_field_code)\n",
    "        self.new_field = self.find_field_by_code(self.new_field_code)\n",
    "        self.doc_type_code = self.new_field.document_type.code\n",
    "        \n",
    "        # get new field values\n",
    "        new_values = DocumentFieldValue.objects.filter(field__pk=self.new_field.pk)\n",
    "        for new_val in new_values:\n",
    "            self.new_field_by_doc[new_val.document.pk] = new_val\n",
    "        \n",
    "        # iterate through field values\n",
    "        old_values = DocumentFieldValue.objects.filter(field__pk=self.old_field.pk)\n",
    "        print(f'Processing {old_values.count()} fields')\n",
    "        for old_val in old_values:\n",
    "            self.update_new_field_value(old_val)  \n",
    "        print(f'Updated {self.count_updated} values, {len(self.new_field_by_doc)} were already set')\n",
    "        if self.count_updated:\n",
    "            print('Reindexing started')\n",
    "            self.reindex()\n",
    "            print('Reindexing completed.')\n",
    "        \n",
    "    def reindex(self):\n",
    "        from apps.rawdb.tasks import manual_reindex\n",
    "        from apps.task.tasks import call_task_func\n",
    "        \n",
    "        user = User.objects.all()[0]\n",
    "        \n",
    "        call_task_func(manual_reindex,\n",
    "                      (self.doc_type_code, False),\n",
    "                      user.pk)\n",
    "        \n",
    "    def update_new_field_value(self, old_val: DocumentFieldValue):\n",
    "        new_val = self.new_field_by_doc.get(old_val.document.pk)\n",
    "        if new_val:\n",
    "            self.count_already_set += 1\n",
    "            if not self.overwrite_values:\n",
    "                return\n",
    "        else:\n",
    "            new_val = DocumentFieldValue()\n",
    "            \n",
    "            new_val.value = self.cast_value(old_val.value)\n",
    "            new_val.document_id = old_val.document.id\n",
    "            new_val.field_id = self.new_field.pk\n",
    "            new_val.location_start = old_val.location_start\n",
    "            new_val.location_end = old_val.location_end\n",
    "            new_val.modified_by_id = old_val.modified_by_id\n",
    "            new_val.created_by_id = old_val.created_by_id\n",
    "            new_val.created_date = old_val.created_date\n",
    "            new_val.location_text = old_val.location_text\n",
    "            new_val.modified_date = old_val.modified_date\n",
    "            new_val.extraction_hint = old_val.extraction_hint\n",
    "            new_val.text_unit_id = old_val.text_unit_id\n",
    "            new_val.removed_by_user = old_val.removed_by_user\n",
    "            new_val.save()\n",
    "            self.count_updated += 1\n",
    "            \n",
    "    def cast_value(self, old_val):\n",
    "        if self.old_field.type == self.new_field.type:\n",
    "            return old_val\n",
    "        if self.old_field.type == 'int' and self.new_field.type == 'duration':\n",
    "            return old_val\n",
    "        raise Exception(f'Conversion from {self.old_field.type} to {self.new_field.type} is not implemented')\n",
    "            \n",
    "    def find_field_by_code(self, code: str) -> DocumentField:\n",
    "        code_parts = code.split('.')\n",
    "        doc_type = ''\n",
    "        if len(code_parts) == 2:\n",
    "            doc_type = code_parts[0]\n",
    "            code = code_parts[1]\n",
    "        fields = list(DocumentField.objects.filter(code=code))\n",
    "        if not fields:\n",
    "            raise Exception(f'Document field with code \"{code}\" was not found')\n",
    "        if doc_type:\n",
    "            fields = [f for f in fields if f.document_type.code == doc_type]\n",
    "        if len(fields) > 1:\n",
    "            msg = ', '.join([f'{f.document_type.code}.{f.code}' for f in fields])\n",
    "            raise Exception(f'Found multiple fields with code \"{code}\":\\n' + msg)\n",
    "        return fields[0]"
   ]
  },
  {
   "cell_type": "code",
   "execution_count": 41,
   "metadata": {},
   "outputs": [
    {
     "name": "stdout",
     "output_type": "stream",
     "text": [
      "Processing 2 fields\n",
      "Updated 0 values, 3 were already set\n",
      "Reindexing started\n"
     ]
    },
    {
     "name": "stderr",
     "output_type": "stream",
     "text": [
      "/contraxsuite_services/venv/lib/python3.6/site-packages/sklearn/ensemble/weight_boosting.py:29: DeprecationWarning: numpy.core.umath_tests is an internal NumPy module and should not be imported. It will be removed in a future NumPy release.\n",
      "  from numpy.core.umath_tests import inner1d\n"
     ]
    },
    {
     "name": "stdout",
     "output_type": "stream",
     "text": [
      "Reindexing completed.\n"
     ]
    }
   ],
   "source": [
    "# I can omit \"devil_doc\" here because \"devil_int\" is a unique field code\n",
    "# for all the document types\n",
    "old_field = 'devil_doc.devil_int'\n",
    "new_field = 'devil_duration'\n",
    "\n",
    "# I don't want overwrite old values for \"devil_duration\" (values that were already set)\n",
    "migration = FieldMigration(old_field, new_field, overwrite_values=False)\n",
    "\n",
    "# Old field was \"int\", new field has the type \"duration\"\n",
    "# an \"int\" can be easily converted to a \"duration\"\n",
    "\n",
    "# If there should be some conversion logic, e.g., \"String\" -> \"duration\",\n",
    "# I should have been override \"def cast_value(cls, old_val)\" method in derived class\n",
    "# or right here, in \"FieldMigration.cast_value\" method body\n",
    "\n",
    "migration.migrate()"
   ]
  }
 ],
 "metadata": {
  "kernelspec": {
   "display_name": "Python 3",
   "language": "python",
   "name": "python3"
  },
  "language_info": {
   "codemirror_mode": {
    "name": "ipython",
    "version": 3
   },
   "file_extension": ".py",
   "mimetype": "text/x-python",
   "name": "python",
   "nbconvert_exporter": "python",
   "pygments_lexer": "ipython3",
   "version": "3.6.8"
  }
 },
 "nbformat": 4,
 "nbformat_minor": 2
}
