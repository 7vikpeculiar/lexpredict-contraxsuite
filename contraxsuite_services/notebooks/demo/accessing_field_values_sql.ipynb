{
 "cells": [
  {
   "cell_type": "code",
   "execution_count": 1,
   "metadata": {},
   "outputs": [],
   "source": [
    "import os\n",
    "import sys\n",
    "sys.path.append('../../')\n",
    "os.environ[\"DJANGO_SETTINGS_MODULE\"] = \"settings\"\n",
    "os.environ.setdefault(\"DJANGO_SETTINGS_MODULE\", \"settings\")\n",
    "import django\n",
    "from django.db import connection\n",
    "django.setup()"
   ]
  },
  {
   "cell_type": "code",
   "execution_count": 2,
   "metadata": {},
   "outputs": [],
   "source": [
    "from IPython.display import HTML, display\n",
    "import tabulate"
   ]
  },
  {
   "cell_type": "code",
   "execution_count": 3,
   "metadata": {},
   "outputs": [],
   "source": [
    "def execute(sql: str, params=None):\n",
    "    with connection.cursor() as cursor:\n",
    "        cursor.execute(sql, params)\n",
    "        columns = [col[0] for col in cursor.description]\n",
    "        rows = cursor.fetchall()\n",
    "\n",
    "    display(HTML(tabulate.tabulate(rows, tablefmt='html', headers=columns)))"
   ]
  },
  {
   "cell_type": "code",
   "execution_count": 4,
   "metadata": {},
   "outputs": [
    {
     "data": {
      "text/html": [
       "<table>\n",
       "<thead>\n",
       "<tr><th>tablename                           </th></tr>\n",
       "</thead>\n",
       "<tbody>\n",
       "<tr><td>doc_fields_lease_lease_document     </td></tr>\n",
       "<tr><td>doc_fields_dt_test                  </td></tr>\n",
       "<tr><td>doc_fields_document_generic_document</td></tr>\n",
       "<tr><td>doc_fields_ws_litigation_alert      </td></tr>\n",
       "<tr><td>doc_fields_ktest_doc_type           </td></tr>\n",
       "</tbody>\n",
       "</table>"
      ],
      "text/plain": [
       "<IPython.core.display.HTML object>"
      ]
     },
     "metadata": {},
     "output_type": "display_data"
    }
   ],
   "source": [
    "execute('select tablename from pg_catalog.pg_tables where tablename like %s', ['doc_fields_%'])"
   ]
  },
  {
   "cell_type": "code",
   "execution_count": 5,
   "metadata": {},
   "outputs": [
    {
     "data": {
      "text/html": [
       "<table>\n",
       "<thead>\n",
       "<tr><th>column_name                              </th><th>data_type                  </th><th>character_maximum_length  </th></tr>\n",
       "</thead>\n",
       "<tbody>\n",
       "<tr><td>document_id                              </td><td>integer                    </td><td>                          </td></tr>\n",
       "<tr><td>alterations_allowed                      </td><td>integer                    </td><td>                          </td></tr>\n",
       "<tr><td>alterations_allowed_suggested            </td><td>integer                    </td><td>                          </td></tr>\n",
       "<tr><td>any                                      </td><td>character varying          </td><td>                          </td></tr>\n",
       "<tr><td>any_suggested                            </td><td>character varying          </td><td>                          </td></tr>\n",
       "<tr><td>area_acres                               </td><td>double precision           </td><td>                          </td></tr>\n",
       "<tr><td>area_acres_suggested                     </td><td>double precision           </td><td>                          </td></tr>\n",
       "<tr><td>area_size_sq_ft                          </td><td>double precision           </td><td>                          </td></tr>\n",
       "<tr><td>area_size_sq_ft_suggested                </td><td>double precision           </td><td>                          </td></tr>\n",
       "<tr><td>auto_renew                               </td><td>character varying          </td><td>                          </td></tr>\n",
       "<tr><td>auto_renew_suggested                     </td><td>character varying          </td><td>                          </td></tr>\n",
       "<tr><td>calculated_area_size_sq_ft               </td><td>double precision           </td><td>                          </td></tr>\n",
       "<tr><td>calculated_area_size_sq_ft_suggested     </td><td>double precision           </td><td>                          </td></tr>\n",
       "<tr><td>calculated_expiration_date               </td><td>timestamp without time zone</td><td>                          </td></tr>\n",
       "<tr><td>calculated_expiration_date_suggested     </td><td>timestamp without time zone</td><td>                          </td></tr>\n",
       "<tr><td>calculated_lease_type                    </td><td>character varying          </td><td>                          </td></tr>\n",
       "<tr><td>calculated_lease_type_suggested          </td><td>character varying          </td><td>                          </td></tr>\n",
       "<tr><td>calculated_term                          </td><td>integer                    </td><td>                          </td></tr>\n",
       "<tr><td>calculated_term_suggested                </td><td>integer                    </td><td>                          </td></tr>\n",
       "<tr><td>commencement_date                        </td><td>timestamp without time zone</td><td>                          </td></tr>\n",
       "<tr><td>commencement_date_suggested              </td><td>timestamp without time zone</td><td>                          </td></tr>\n",
       "<tr><td>expiration_date                          </td><td>timestamp without time zone</td><td>                          </td></tr>\n",
       "<tr><td>expiration_date_suggested                </td><td>timestamp without time zone</td><td>                          </td></tr>\n",
       "<tr><td>landlord                                 </td><td>character varying          </td><td>                          </td></tr>\n",
       "<tr><td>landlord_suggested                       </td><td>character varying          </td><td>                          </td></tr>\n",
       "<tr><td>lease_type_pay_taxes                     </td><td>character varying          </td><td>                          </td></tr>\n",
       "<tr><td>lease_type_pay_costs                     </td><td>character varying          </td><td>                          </td></tr>\n",
       "<tr><td>lease_type_pay_insurance                 </td><td>character varying          </td><td>                          </td></tr>\n",
       "<tr><td>lease_type_pay_taxes_suggested           </td><td>character varying          </td><td>                          </td></tr>\n",
       "<tr><td>lease_type_pay_costs_suggested           </td><td>character varying          </td><td>                          </td></tr>\n",
       "<tr><td>lease_type_pay_insurance_suggested       </td><td>character varying          </td><td>                          </td></tr>\n",
       "<tr><td>mean_rent_per_month                      </td><td>double precision           </td><td>                          </td></tr>\n",
       "<tr><td>mean_rent_per_month_suggested            </td><td>double precision           </td><td>                          </td></tr>\n",
       "<tr><td>property_address                         </td><td>character varying          </td><td>                          </td></tr>\n",
       "<tr><td>property_address_suggested               </td><td>character varying          </td><td>                          </td></tr>\n",
       "<tr><td>property_type_storage                    </td><td>character varying          </td><td>                          </td></tr>\n",
       "<tr><td>property_type_office                     </td><td>character varying          </td><td>                          </td></tr>\n",
       "<tr><td>property_type_land                       </td><td>character varying          </td><td>                          </td></tr>\n",
       "<tr><td>property_type_retail                     </td><td>character varying          </td><td>                          </td></tr>\n",
       "<tr><td>property_type_farming                    </td><td>character varying          </td><td>                          </td></tr>\n",
       "<tr><td>property_type_storage_suggested          </td><td>character varying          </td><td>                          </td></tr>\n",
       "<tr><td>property_type_office_suggested           </td><td>character varying          </td><td>                          </td></tr>\n",
       "<tr><td>property_type_land_suggested             </td><td>character varying          </td><td>                          </td></tr>\n",
       "<tr><td>property_type_retail_suggested           </td><td>character varying          </td><td>                          </td></tr>\n",
       "<tr><td>property_type_farming_suggested          </td><td>character varying          </td><td>                          </td></tr>\n",
       "<tr><td>renew_non_renew_notice_duration          </td><td>integer                    </td><td>                          </td></tr>\n",
       "<tr><td>renew_non_renew_notice_duration_suggested</td><td>integer                    </td><td>                          </td></tr>\n",
       "<tr><td>rent_due_frequency                       </td><td>character varying          </td><td>                          </td></tr>\n",
       "<tr><td>rent_due_frequency_suggested             </td><td>character varying          </td><td>                          </td></tr>\n",
       "<tr><td>security_deposit                         </td><td>double precision           </td><td>                          </td></tr>\n",
       "<tr><td>security_deposit_suggested               </td><td>double precision           </td><td>                          </td></tr>\n",
       "<tr><td>some                                     </td><td>character varying          </td><td>                          </td></tr>\n",
       "<tr><td>some_suggested                           </td><td>character varying          </td><td>                          </td></tr>\n",
       "<tr><td>tenant                                   </td><td>character varying          </td><td>                          </td></tr>\n",
       "<tr><td>tenant_suggested                         </td><td>character varying          </td><td>                          </td></tr>\n",
       "<tr><td>term                                     </td><td>integer                    </td><td>                          </td></tr>\n",
       "<tr><td>term_suggested                           </td><td>integer                    </td><td>                          </td></tr>\n",
       "<tr><td>test_str                                 </td><td>character varying          </td><td>                          </td></tr>\n",
       "<tr><td>test_str_suggested                       </td><td>character varying          </td><td>                          </td></tr>\n",
       "</tbody>\n",
       "</table>"
      ],
      "text/plain": [
       "<IPython.core.display.HTML object>"
      ]
     },
     "metadata": {},
     "output_type": "display_data"
    }
   ],
   "source": [
    "table_name = 'doc_fields_lease_lease_document'\n",
    "execute('''select column_name, data_type, character_maximum_length \n",
    "        from INFORMATION_SCHEMA.COLUMNS where table_name = %s''', [table_name])"
   ]
  },
  {
   "cell_type": "code",
   "execution_count": 6,
   "metadata": {},
   "outputs": [
    {
     "data": {
      "text/html": [
       "<table>\n",
       "<thead>\n",
       "<tr><th style=\"text-align: right;\">  document_id</th><th style=\"text-align: right;\">  alterations_allowed</th><th style=\"text-align: right;\">  alterations_allowed_suggested</th><th>any   </th><th>any_suggested  </th><th>area_acres  </th><th>area_acres_suggested  </th><th style=\"text-align: right;\">  area_size_sq_ft</th><th style=\"text-align: right;\">  area_size_sq_ft_suggested</th><th>auto_renew  </th><th>auto_renew_suggested  </th><th style=\"text-align: right;\">  calculated_area_size_sq_ft</th><th style=\"text-align: right;\">  calculated_area_size_sq_ft_suggested</th><th>calculated_expiration_date  </th><th>calculated_expiration_date_suggested  </th><th>calculated_lease_type  </th><th>calculated_lease_type_suggested  </th><th style=\"text-align: right;\">  calculated_term</th><th style=\"text-align: right;\">  calculated_term_suggested</th><th>commencement_date  </th><th>commencement_date_suggested  </th><th>expiration_date  </th><th>expiration_date_suggested  </th><th>landlord  </th><th>landlord_suggested  </th><th style=\"text-align: right;\">  lease_type_pay_taxes</th><th style=\"text-align: right;\">  lease_type_pay_costs</th><th style=\"text-align: right;\">  lease_type_pay_insurance</th><th style=\"text-align: right;\">  lease_type_pay_taxes_suggested</th><th style=\"text-align: right;\">  lease_type_pay_costs_suggested</th><th style=\"text-align: right;\">  lease_type_pay_insurance_suggested</th><th>mean_rent_per_month  </th><th>mean_rent_per_month_suggested  </th><th>property_address   </th><th>property_address_suggested                                                                                              </th><th style=\"text-align: right;\">  property_type_storage</th><th style=\"text-align: right;\">  property_type_office</th><th style=\"text-align: right;\">  property_type_land</th><th style=\"text-align: right;\">  property_type_retail</th><th style=\"text-align: right;\">  property_type_farming</th><th style=\"text-align: right;\">  property_type_storage_suggested</th><th style=\"text-align: right;\">  property_type_office_suggested</th><th style=\"text-align: right;\">  property_type_land_suggested</th><th style=\"text-align: right;\">  property_type_retail_suggested</th><th style=\"text-align: right;\">  property_type_farming_suggested</th><th style=\"text-align: right;\">  renew_non_renew_notice_duration</th><th style=\"text-align: right;\">  renew_non_renew_notice_duration_suggested</th><th>rent_due_frequency  </th><th>rent_due_frequency_suggested  </th><th style=\"text-align: right;\">  security_deposit</th><th style=\"text-align: right;\">  security_deposit_suggested</th><th>some  </th><th>some_suggested  </th><th>tenant         </th><th>tenant_suggested  </th><th style=\"text-align: right;\">  term</th><th style=\"text-align: right;\">  term_suggested</th><th>test_str  </th><th>test_str_suggested  </th></tr>\n",
       "</thead>\n",
       "<tbody>\n",
       "<tr><td style=\"text-align: right;\">        21760</td><td style=\"text-align: right;\">                   36</td><td style=\"text-align: right;\">                             37</td><td>wwgwgw</td><td>               </td><td>            </td><td>                      </td><td style=\"text-align: right;\">           999.99</td><td style=\"text-align: right;\">                     999.99</td><td>No          </td><td>No                    </td><td style=\"text-align: right;\">                      999.99</td><td style=\"text-align: right;\">                                999.99</td><td>2005-06-29 00:00:00         </td><td>2005-06-29 00:00:00                   </td><td>triple-Net             </td><td>triple-Net                       </td><td style=\"text-align: right;\">             2920</td><td style=\"text-align: right;\">                       2920</td><td>1997-07-01 00:00:00</td><td>                             </td><td>                 </td><td>                           </td><td>bgbgfbd   </td><td>                    </td><td style=\"text-align: right;\">                     7</td><td style=\"text-align: right;\">                     7</td><td style=\"text-align: right;\">                         1</td><td style=\"text-align: right;\">                               7</td><td style=\"text-align: right;\">                               7</td><td style=\"text-align: right;\">                                   1</td><td>                     </td><td>                               </td><td>Systems Canada, Ltd</td><td>{'address': 'Systems Canada, Ltd', 'latitude': None, 'longitude': None, 'country': None, 'province': None, 'city': None}</td><td style=\"text-align: right;\">                      3</td><td style=\"text-align: right;\">                     1</td><td style=\"text-align: right;\">                   0</td><td style=\"text-align: right;\">                     0</td><td style=\"text-align: right;\">                      0</td><td style=\"text-align: right;\">                                3</td><td style=\"text-align: right;\">                               1</td><td style=\"text-align: right;\">                             0</td><td style=\"text-align: right;\">                               0</td><td style=\"text-align: right;\">                                0</td><td style=\"text-align: right;\">                              180</td><td style=\"text-align: right;\">                                        180</td><td>                    </td><td>                              </td><td style=\"text-align: right;\">            9052.2</td><td style=\"text-align: right;\">                      9052.2</td><td>      </td><td>                </td><td>thetenant113456</td><td>                  </td><td style=\"text-align: right;\">  2920</td><td style=\"text-align: right;\">            2920</td><td>          </td><td>                    </td></tr>\n",
       "</tbody>\n",
       "</table>"
      ],
      "text/plain": [
       "<IPython.core.display.HTML object>"
      ]
     },
     "metadata": {},
     "output_type": "display_data"
    }
   ],
   "source": [
    "execute('select * from doc_fields_lease_lease_document where document_id = %s', [21760])"
   ]
  },
  {
   "cell_type": "code",
   "execution_count": null,
   "metadata": {},
   "outputs": [],
   "source": []
  },
  {
   "cell_type": "code",
   "execution_count": null,
   "metadata": {},
   "outputs": [],
   "source": []
  }
 ],
 "metadata": {
  "kernelspec": {
   "display_name": "Python 3",
   "language": "python",
   "name": "python3"
  },
  "language_info": {
   "codemirror_mode": {
    "name": "ipython",
    "version": 3
   },
   "file_extension": ".py",
   "mimetype": "text/x-python",
   "name": "python",
   "nbconvert_exporter": "python",
   "pygments_lexer": "ipython3",
   "version": "3.6.5"
  }
 },
 "nbformat": 4,
 "nbformat_minor": 2
}
