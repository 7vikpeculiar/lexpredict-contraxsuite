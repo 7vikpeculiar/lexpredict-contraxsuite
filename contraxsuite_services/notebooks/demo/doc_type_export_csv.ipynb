{
 "cells": [
  {
   "cell_type": "code",
   "execution_count": 1,
   "metadata": {},
   "outputs": [],
   "source": [
    "# hide warnings\n",
    "import warnings\n",
    "warnings.filterwarnings('ignore')\n",
    "\n",
    "# setup django\n",
    "import os\n",
    "import sys\n",
    "sys.path.append('../../')\n",
    "os.environ[\"DJANGO_SETTINGS_MODULE\"] = \"settings\"\n",
    "os.environ.setdefault(\"DJANGO_SETTINGS_MODULE\", \"settings\")\n",
    "import django\n",
    "django.setup()\n",
    "\n",
    "from django.conf import settings\n",
    "from django.db.models import *\n",
    "from apps.document.models import DocumentField, DocumentType"
   ]
  },
  {
   "cell_type": "code",
   "execution_count": 3,
   "metadata": {},
   "outputs": [
    {
     "name": "stdout",
     "output_type": "stream",
     "text": [
      "contract.custody\n",
      "contract.SellersWarrantiesAndServ\n",
      "document.GenericDocument\n",
      "employment.EmploymentAgrement\n",
      "Ktest_doc_type\n",
      "lease.LeaseDocument\n"
     ]
    }
   ],
   "source": [
    "print('\\n'.join(DocumentType.objects.all().values_list('code', flat=True)))"
   ]
  },
  {
   "cell_type": "code",
   "execution_count": 9,
   "metadata": {},
   "outputs": [
    {
     "data": {
      "text/plain": [
       "'code,title,type,order,choices,formula\\r\\nalterations_allowed,Alterations Allowed,related_info,0,,\\r\\narea_acres,Area (acres),float,0,,\\r\\narea_size_sq_ft,Area Size (sq. ft.),float,0,,\\r\\nauto_renew,Auto Renew,choice,1,\"Yes\\r\\nNo\",\\r\\ncalculated_area_size_sq_ft,\"Area Size (sq. ft., calculated)\",float,2,,\"area_size_sq_ft if area_size_sq_ft \\\\\\r\\nelse float(area_acres) / 43560.0 if area_acres \\\\\\r\\nelse None\"\\r\\ncalculated_expiration_date,Expiration Date (calculated),date,3,,\"expiration_date if expiration_date \\\\\\r\\nelse commencement_date + datetime.timedelta(days=term) if term and commencement_date \\\\\\r\\nelse None\"\\r\\ncalculated_lease_type,Lease Type (calculated),choice,4,\"triple-Net\\r\\ndouble-Net\\r\\nsingle-Net\\r\\ngross\",\"\\'gross\\' if not lease_type \\\\\\r\\nelse \\'triple-Net\\' if len(lease_type) >= 3 \\\\\\r\\nelse \\'double-Net\\' if len(lease_type) >= 2 \\\\\\r\\nelse \\'single-Net\\'\"\\r\\ncalculated_term,Term (calculated),duration,5,,\"term if term \\\\\\r\\nelse (expiration_date - commencement_date).days if  commencement_date and expiration_date \\\\\\r\\nelse None\"\\r\\ncommencement_date,Commencement Date,date,6,,\\r\\nexpiration_date,Expiration Date,date,7,,\\r\\nlandlord,Landlord (Lessor),company,8,,\\r\\nlease_type,Lease Type,multi_choice,9,\"pay_taxes\\r\\npay_costs\\r\\npay_insurance\",\\r\\nmean_rent_per_month,Mean Rent Per Month,amount,10,,\\r\\nproperty_address,Property Address,address,11,,\\r\\nproperty_type,Property Type,multi_choice,12,\"storage\\r\\noffice\\r\\nland\\r\\nretail\\r\\nfarming\",\\r\\nrenew_non_renew_notice_duration,Renew / Non-renew Notice Duration,duration,13,,\\r\\nrent_due_frequency,Rent Due Frequency,choice,14,\"monthly\\r\\nannual\\r\\nat once\",\\r\\nsecurity_deposit,Security Deposit,amount,15,,\\r\\ntenant,Tenant (Lessee),company,16,,\\r\\nterm,Term,duration,17,,\\r\\ntestratio,testRatio,ratio,18,,\\r\\n'"
      ]
     },
     "execution_count": 9,
     "metadata": {},
     "output_type": "execute_result"
    }
   ],
   "source": [
    "doc_type_code = 'lease.LeaseDocument'\n",
    "columns = ('code', 'title', 'type', 'order', 'choices', 'formula')\n",
    "\n",
    "import csv\n",
    "from io import StringIO\n",
    "\n",
    "out = StringIO()\n",
    "\n",
    "w = csv.writer(out)\n",
    "w.writerow(columns)\n",
    "for f in DocumentField.objects.filter(document_type__code=doc_type_code).values_list(*columns):\n",
    "    w.writerow(f)\n",
    "    \n",
    "out.getvalue()\n",
    "\n"
   ]
  },
  {
   "cell_type": "code",
   "execution_count": null,
   "metadata": {},
   "outputs": [],
   "source": []
  }
 ],
 "metadata": {
  "kernelspec": {
   "display_name": "Python 3",
   "language": "python",
   "name": "python3"
  },
  "language_info": {
   "codemirror_mode": {
    "name": "ipython",
    "version": 3
   },
   "file_extension": ".py",
   "mimetype": "text/x-python",
   "name": "python",
   "nbconvert_exporter": "python",
   "pygments_lexer": "ipython3",
   "version": "3.6.5"
  }
 },
 "nbformat": 4,
 "nbformat_minor": 2
}
