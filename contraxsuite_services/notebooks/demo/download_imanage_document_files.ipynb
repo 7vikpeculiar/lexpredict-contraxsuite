{
 "cells": [
  {
   "cell_type": "markdown",
   "metadata": {},
   "source": [
    "This notebook is an example of interacting with iManage system.\n",
    "It re-downloads document files for each Document previously imported from iManage."
   ]
  },
  {
   "cell_type": "code",
   "execution_count": null,
   "metadata": {},
   "outputs": [],
   "source": [
    "import os\n",
    "import io\n",
    "import csv\n",
    "import sys\n",
    "import uuid\n",
    "sys.path.append('../../')\n",
    "os.environ[\"DJANGO_SETTINGS_MODULE\"] = \"settings\"\n",
    "os.environ.setdefault(\"DJANGO_SETTINGS_MODULE\", \"settings\")\n",
    "import django\n",
    "from django.db import connection, transaction\n",
    "from django.conf import settings\n",
    "django.setup()\n",
    "from apps.document.models import Document\n",
    "from apps.imanage_integration.models import IManageDocument, IManageConfig\n",
    "from django.utils.text import get_valid_filename\n",
    "from django.core.files.storage import FileSystemStorage\n",
    "from apps.common.streaming_utils import download_file"
   ]
  },
  {
   "cell_type": "code",
   "execution_count": null,
   "metadata": {},
   "outputs": [],
   "source": [
    "for imanage_config in IManageConfig.objects.all():\n",
    "    auth_token = imanage_config.login()\n",
    "    for imanage_doc in IManageDocument.objects.filter(imanage_config=imanage_config):\n",
    "        doc = imanage_doc.document\n",
    "        if not doc:\n",
    "            print(f'Imanage doc #{imanage_doc.id}: No Document assigned. Ignoring.')\n",
    "            continue\n",
    "            \n",
    "        filename, response = imanage_config.load_document(auth_token, imanage_doc.imanage_doc_id)\n",
    "        upload_session_id = str(uuid.uuid4())\n",
    "        filename = get_valid_filename(filename)\n",
    "\n",
    "        dst_folder = os.path.join(\n",
    "            settings.MEDIA_ROOT,\n",
    "            settings.FILEBROWSER_DOCUMENTS_DIRECTORY,\n",
    "            upload_session_id)\n",
    "        os.makedirs(dst_folder, exist_ok=True)\n",
    "\n",
    "        dst_folder_storage = FileSystemStorage(location=dst_folder)\n",
    "        filepath = dst_folder_storage.path(filename)\n",
    "\n",
    "        download_file(response, filepath)\n",
    "        \n",
    "        document_name = filename\n",
    "        document_source = upload_session_id\n",
    "        doc.name = document_name\n",
    "        doc.source = document_source\n",
    "        doc.save(update_fields=['name', 'source'])\n",
    "        print(f'Imanage doc #{imanage_doc.id}: Downloaded file: {filepath}. Updated document #{doc.id}.')\n",
    "        \n",
    "        "
   ]
  },
  {
   "cell_type": "code",
   "execution_count": null,
   "metadata": {},
   "outputs": [],
   "source": []
  }
 ],
 "metadata": {
  "kernelspec": {
   "display_name": "Python 3",
   "language": "python",
   "name": "python3"
  },
  "language_info": {
   "codemirror_mode": {
    "name": "ipython",
    "version": 3
   },
   "file_extension": ".py",
   "mimetype": "text/x-python",
   "name": "python",
   "nbconvert_exporter": "python",
   "pygments_lexer": "ipython3",
   "version": "3.6.5"
  }
 },
 "nbformat": 4,
 "nbformat_minor": 2
}
