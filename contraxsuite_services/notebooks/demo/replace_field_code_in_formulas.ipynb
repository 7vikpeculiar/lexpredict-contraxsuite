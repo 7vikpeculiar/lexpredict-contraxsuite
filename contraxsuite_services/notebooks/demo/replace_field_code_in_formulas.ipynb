{
 "cells": [
  {
   "cell_type": "markdown",
   "metadata": {},
   "source": [
    "This script is for updating Python formulas and \"hide_until_python\" properties of the document fields after some field codes have been changes.\n",
    "\n",
    "Input: CSV log of the field code changes either provided by \"Documents: Fix field codes\" admin task or created manually.\n",
    "Results: Python \"formula\" and \"hide_until_python\" scripts of all fields of each changed document type are updated to contain the new field codes instead of the old ones.\n",
    "\n",
    "Warning: This script simply replaces substring (old field codes) occurencies in the formulas. It may damage a formula if it container the field code in a string constant or in similar cases."
   ]
  },
  {
   "cell_type": "code",
   "execution_count": 1,
   "metadata": {},
   "outputs": [],
   "source": [
    "import os\n",
    "import io\n",
    "import csv\n",
    "import sys\n",
    "import jiphy\n",
    "from collections import defaultdict\n",
    "sys.path.append('../../')\n",
    "os.environ[\"DJANGO_SETTINGS_MODULE\"] = \"settings\"\n",
    "os.environ.setdefault(\"DJANGO_SETTINGS_MODULE\", \"settings\")\n",
    "import django\n",
    "from django.db import connection, transaction\n",
    "django.setup()\n",
    "from apps.document.models import DocumentField, DocumentType"
   ]
  },
  {
   "cell_type": "code",
   "execution_count": 2,
   "metadata": {},
   "outputs": [],
   "source": [
    "# Columns should be: Document Type Code, Old Field Code, New Field Code\n",
    "field_code_changes_csv = '''Document Type Code,Old Field Code,New Field Code\n",
    "lease.LeaseDocument,alterationsAllowed,alterations_allowed\n",
    "contract.SellersWarrantiesAndServ,swarrantiesOffCertificate,swarranties_offcertificate\n",
    "lease.LeaseDocument,leaseType,lease_type\n",
    "'''"
   ]
  },
  {
   "cell_type": "code",
   "execution_count": 3,
   "metadata": {},
   "outputs": [
    {
     "name": "stdout",
     "output_type": "stream",
     "text": [
      "defaultdict(<class 'dict'>, {'lease.LeaseDocument': {'alterationsAllowed': 'alterations_allowed', 'leaseType': 'lease_type'}, 'contract.SellersWarrantiesAndServ': {'swarrantiesOffCertificate': 'swarranties_offcertificate'}})\n"
     ]
    }
   ],
   "source": [
    "f = io.StringIO(field_code_changes_csv)\n",
    "reader = csv.reader(f, delimiter=',')\n",
    "\n",
    "doc_types_to_changes = defaultdict(dict)\n",
    "\n",
    "header = None\n",
    "for row in reader:\n",
    "    if header is None:\n",
    "        header = row\n",
    "    else:\n",
    "        doc_type_code, old_field_code, new_field_code = row\n",
    "        doc_types_to_changes[doc_type_code][old_field_code] = new_field_code\n",
    "\n",
    "print(doc_types_to_changes)"
   ]
  },
  {
   "cell_type": "code",
   "execution_count": 4,
   "metadata": {},
   "outputs": [
    {
     "name": "stderr",
     "output_type": "stream",
     "text": [
      "(0.002) SELECT \"document_documenttype\".\"created_date\", \"document_documenttype\".\"modified_date\", \"document_documenttype\".\"created_by_id\", \"document_documenttype\".\"modified_by_id\", \"document_documenttype\".\"uid\", \"document_documenttype\".\"code\", \"document_documenttype\".\"title\", \"document_documenttype\".\"field_code_aliases\", \"document_documenttype\".\"editor_type\", \"document_documenttype\".\"metadata\" FROM \"document_documenttype\" WHERE \"document_documenttype\".\"code\" = 'lease.LeaseDocument'; args=('lease.LeaseDocument',)\n",
      "(0.002) SELECT \"document_documentfield\".\"created_by_id\", \"document_documentfield\".\"modified_by_id\", \"document_documentfield\".\"uid\", \"document_documentfield\".\"document_type_id\", \"document_documentfield\".\"code\", \"document_documentfield\".\"long_code\", \"document_documentfield\".\"title\", \"document_documentfield\".\"description\", \"document_documentfield\".\"type\", \"document_documentfield\".\"text_unit_type\", \"document_documentfield\".\"value_detection_strategy\", \"document_documentfield\".\"python_coded_field\", \"document_documentfield\".\"classifier_init_script\", \"document_documentfield\".\"formula\", \"document_documentfield\".\"value_regexp\", \"document_documentfield\".\"confidence\", \"document_documentfield\".\"requires_text_annotations\", \"document_documentfield\".\"read_only\", \"document_documentfield\".\"category_id\", \"document_documentfield\".\"default_value\", \"document_documentfield\".\"choices\", \"document_documentfield\".\"allow_values_not_specified_in_choices\", \"document_documentfield\".\"stop_words\", \"document_documentfield\".\"metadata\", \"document_documentfield\".\"training_finished\", \"document_documentfield\".\"dirty\", \"document_documentfield\".\"order\", \"document_documentfield\".\"trained_after_documents_number\", \"document_documentfield\".\"hidden_always\", \"document_documentfield\".\"hide_until_python\", \"document_documentfield\".\"hide_until_js\", \"document_documentfield\".\"display_yes_no\", \"document_documentfield\".\"modified_date\", \"document_documentfield\".\"created_date\" FROM \"document_documentfield\" WHERE \"document_documentfield\".\"document_type_id\" = '78425541-fe21-4ede-9445-ca88ceb3fc4c'::uuid ORDER BY \"document_documentfield\".\"long_code\" ASC; args=(UUID('78425541-fe21-4ede-9445-ca88ceb3fc4c'),)\n",
      "(0.000) SAVEPOINT \"s140471902422848_x1\"; args=None\n",
      "(0.000) SELECT \"document_documentfield\".\"document_type_id\", \"document_documentfield\".\"type\" FROM \"document_documentfield\" WHERE \"document_documentfield\".\"uid\" = 'fc611670-153a-4958-be5b-3a5996263f83'::uuid ORDER BY \"document_documentfield\".\"long_code\" ASC; args=(UUID('fc611670-153a-4958-be5b-3a5996263f83'),)\n",
      "(0.000) SELECT \"document_documenttype\".\"created_date\", \"document_documenttype\".\"modified_date\", \"document_documenttype\".\"created_by_id\", \"document_documenttype\".\"modified_by_id\", \"document_documenttype\".\"uid\", \"document_documenttype\".\"code\", \"document_documenttype\".\"title\", \"document_documenttype\".\"field_code_aliases\", \"document_documenttype\".\"editor_type\", \"document_documenttype\".\"metadata\" FROM \"document_documenttype\" WHERE \"document_documenttype\".\"uid\" = '78425541-fe21-4ede-9445-ca88ceb3fc4c'::uuid; args=(UUID('78425541-fe21-4ede-9445-ca88ceb3fc4c'),)\n",
      "(0.001) SELECT \"document_documenttype\".\"created_date\", \"document_documenttype\".\"modified_date\", \"document_documenttype\".\"created_by_id\", \"document_documenttype\".\"modified_by_id\", \"document_documenttype\".\"uid\", \"document_documenttype\".\"code\", \"document_documenttype\".\"title\", \"document_documenttype\".\"field_code_aliases\", \"document_documenttype\".\"editor_type\", \"document_documenttype\".\"metadata\" FROM \"document_documenttype\" WHERE \"document_documenttype\".\"uid\" = '78425541-fe21-4ede-9445-ca88ceb3fc4c'::uuid; args=(UUID('78425541-fe21-4ede-9445-ca88ceb3fc4c'),)\n",
      "(0.001) UPDATE \"document_documentfield\" SET \"hide_until_python\" = 'alterations_allowed is True', \"hide_until_js\" = 'alterations_allowed === true' WHERE \"document_documentfield\".\"uid\" = 'fc611670-153a-4958-be5b-3a5996263f83'::uuid; args=('alterations_allowed is True', 'alterations_allowed === true', UUID('fc611670-153a-4958-be5b-3a5996263f83'))\n",
      "(0.000) RELEASE SAVEPOINT \"s140471902422848_x1\"; args=None\n",
      "(0.001) SELECT \"document_documenttype\".\"created_date\", \"document_documenttype\".\"modified_date\", \"document_documenttype\".\"created_by_id\", \"document_documenttype\".\"modified_by_id\", \"document_documenttype\".\"uid\", \"document_documenttype\".\"code\", \"document_documenttype\".\"title\", \"document_documenttype\".\"field_code_aliases\", \"document_documenttype\".\"editor_type\", \"document_documenttype\".\"metadata\" FROM \"document_documenttype\" WHERE \"document_documenttype\".\"code\" = 'contract.SellersWarrantiesAndServ'; args=('contract.SellersWarrantiesAndServ',)\n",
      "(0.001) SELECT \"document_documentfield\".\"created_by_id\", \"document_documentfield\".\"modified_by_id\", \"document_documentfield\".\"uid\", \"document_documentfield\".\"document_type_id\", \"document_documentfield\".\"code\", \"document_documentfield\".\"long_code\", \"document_documentfield\".\"title\", \"document_documentfield\".\"description\", \"document_documentfield\".\"type\", \"document_documentfield\".\"text_unit_type\", \"document_documentfield\".\"value_detection_strategy\", \"document_documentfield\".\"python_coded_field\", \"document_documentfield\".\"classifier_init_script\", \"document_documentfield\".\"formula\", \"document_documentfield\".\"value_regexp\", \"document_documentfield\".\"confidence\", \"document_documentfield\".\"requires_text_annotations\", \"document_documentfield\".\"read_only\", \"document_documentfield\".\"category_id\", \"document_documentfield\".\"default_value\", \"document_documentfield\".\"choices\", \"document_documentfield\".\"allow_values_not_specified_in_choices\", \"document_documentfield\".\"stop_words\", \"document_documentfield\".\"metadata\", \"document_documentfield\".\"training_finished\", \"document_documentfield\".\"dirty\", \"document_documentfield\".\"order\", \"document_documentfield\".\"trained_after_documents_number\", \"document_documentfield\".\"hidden_always\", \"document_documentfield\".\"hide_until_python\", \"document_documentfield\".\"hide_until_js\", \"document_documentfield\".\"display_yes_no\", \"document_documentfield\".\"modified_date\", \"document_documentfield\".\"created_date\" FROM \"document_documentfield\" WHERE \"document_documentfield\".\"document_type_id\" = 'af0d1731-3d09-4cc7-ae9a-4952a77ab43e'::uuid ORDER BY \"document_documentfield\".\"long_code\" ASC; args=(UUID('af0d1731-3d09-4cc7-ae9a-4952a77ab43e'),)\n"
     ]
    },
    {
     "name": "stdout",
     "output_type": "stream",
     "text": [
      "Updated hide_until_python for lease.LeaseDocument.alterations_allowed\n"
     ]
    }
   ],
   "source": [
    "with transaction.atomic():\n",
    "    for doc_type_code, changes in doc_types_to_changes.items():\n",
    "        doc_type = DocumentType.objects.get(code=doc_type_code)\n",
    "        \n",
    "        for field in DocumentField.objects.filter(document_type=doc_type):\n",
    "            formula = field.formula\n",
    "            if formula:\n",
    "                for old_code, new_code in changes.items():\n",
    "                    formula = formula.replace(old_code, new_code)\n",
    "                \n",
    "                if field.formula != formula:\n",
    "                    field.formula = formula\n",
    "                    field.save(update_fields={'formula'})\n",
    "                    print('Updated formula for {0}.{1}'.format(doc_type_code, field.code))\n",
    "            \n",
    "            hide_until = field.hide_until_python\n",
    "            if hide_until:\n",
    "                for old_code, new_code in changes.items():\n",
    "                    hide_until = hide_until.replace(old_code, new_code)\n",
    "                \n",
    "                if field.hide_until_python != hide_until:\n",
    "                    field.hide_until_python = hide_until\n",
    "                    field.hide_until_js = jiphy.to.javascript(field.hide_until_python) if field.hide_until_python else ''\n",
    "                    field.save(update_fields={'hide_until_python', 'hide_until_js'})\n",
    "                    print('Updated hide_until_python for {0}.{1}'.format(doc_type_code, field.code))"
   ]
  },
  {
   "cell_type": "code",
   "execution_count": null,
   "metadata": {},
   "outputs": [],
   "source": []
  }
 ],
 "metadata": {
  "kernelspec": {
   "display_name": "Python 3",
   "language": "python",
   "name": "python3"
  },
  "language_info": {
   "codemirror_mode": {
    "name": "ipython",
    "version": 3
   },
   "file_extension": ".py",
   "mimetype": "text/x-python",
   "name": "python",
   "nbconvert_exporter": "python",
   "pygments_lexer": "ipython3",
   "version": "3.6.5"
  }
 },
 "nbformat": 4,
 "nbformat_minor": 2
}
