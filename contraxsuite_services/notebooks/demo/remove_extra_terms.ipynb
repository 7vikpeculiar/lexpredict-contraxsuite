{
 "cells": [
  {
   "cell_type": "code",
   "execution_count": 22,
   "metadata": {},
   "outputs": [],
   "source": [
    "# hide warnings\n",
    "import warnings\n",
    "warnings.filterwarnings('ignore')\n",
    "\n",
    "# setup django\n",
    "import os\n",
    "import sys\n",
    "sys.path.append('../../')\n",
    "os.environ[\"DJANGO_SETTINGS_MODULE\"] = \"settings\"\n",
    "os.environ.setdefault(\"DJANGO_SETTINGS_MODULE\", \"settings\")\n",
    "import django\n",
    "django.setup()"
   ]
  },
  {
   "cell_type": "code",
   "execution_count": 23,
   "metadata": {},
   "outputs": [],
   "source": [
    "from django.conf import settings\n",
    "from django.db.models import *\n",
    "\n",
    "from apps.extract.models import *\n",
    "\n",
    "import pandas as pd"
   ]
  },
  {
   "cell_type": "markdown",
   "metadata": {},
   "source": [
    "### List all existing terms sources"
   ]
  },
  {
   "cell_type": "code",
   "execution_count": 3,
   "metadata": {},
   "outputs": [
    {
     "data": {
      "text/plain": [
       "{'Accounting - FASB',\n",
       " 'Accounting - GASB',\n",
       " 'Accounting - IFRS',\n",
       " 'Accounting - UK GAAP',\n",
       " 'Accounting - US GAAP',\n",
       " 'Financial',\n",
       " 'Legal',\n",
       " 'Legal - CFR Title 1',\n",
       " 'Legal - CFR Title 10',\n",
       " 'Legal - CFR Title 11',\n",
       " 'Legal - CFR Title 12',\n",
       " 'Legal - CFR Title 13',\n",
       " 'Legal - CFR Title 14',\n",
       " 'Legal - CFR Title 15',\n",
       " 'Legal - CFR Title 16',\n",
       " 'Legal - CFR Title 17',\n",
       " 'Legal - CFR Title 18',\n",
       " 'Legal - CFR Title 19',\n",
       " 'Legal - CFR Title 2',\n",
       " 'Legal - CFR Title 20',\n",
       " 'Legal - CFR Title 21',\n",
       " 'Legal - CFR Title 22',\n",
       " 'Legal - CFR Title 24',\n",
       " 'Legal - CFR Title 25',\n",
       " 'Legal - CFR Title 26',\n",
       " 'Legal - CFR Title 27',\n",
       " 'Legal - CFR Title 4',\n",
       " 'Legal - CFR Title 5',\n",
       " 'Legal - CFR Title 6',\n",
       " 'Legal - CFR Title 7',\n",
       " 'Legal - CFR Title 8',\n",
       " 'Legal - CFR Title 9',\n",
       " 'Scientific - Hazardous Waste',\n",
       " 'US Code - Title 1',\n",
       " 'US Code - Title 10',\n",
       " 'US Code - Title 11',\n",
       " 'US Code - Title 12',\n",
       " 'US Code - Title 13',\n",
       " 'US Code - Title 14',\n",
       " 'US Code - Title 15',\n",
       " 'US Code - Title 16',\n",
       " 'US Code - Title 17',\n",
       " 'US Code - Title 18',\n",
       " 'US Code - Title 19',\n",
       " 'US Code - Title 2',\n",
       " 'US Code - Title 20',\n",
       " 'US Code - Title 21',\n",
       " 'US Code - Title 22',\n",
       " 'US Code - Title 23',\n",
       " 'US Code - Title 24',\n",
       " 'US Code - Title 25',\n",
       " 'US Code - Title 26',\n",
       " 'US Code - Title 27',\n",
       " 'US Code - Title 28',\n",
       " 'US Code - Title 29',\n",
       " 'US Code - Title 30',\n",
       " 'US Code - Title 31',\n",
       " 'US Code - Title 32',\n",
       " 'US Code - Title 33',\n",
       " 'US Code - Title 34',\n",
       " 'US Code - Title 35',\n",
       " 'US Code - Title 36',\n",
       " 'US Code - Title 37',\n",
       " 'US Code - Title 38',\n",
       " 'US Code - Title 39',\n",
       " 'US Code - Title 4',\n",
       " 'US Code - Title 40',\n",
       " 'US Code - Title 41',\n",
       " 'US Code - Title 42',\n",
       " 'US Code - Title 43',\n",
       " 'US Code - Title 44',\n",
       " 'US Code - Title 45',\n",
       " 'US Code - Title 46',\n",
       " 'US Code - Title 47',\n",
       " 'US Code - Title 48',\n",
       " 'US Code - Title 49',\n",
       " 'US Code - Title 5',\n",
       " 'US Code - Title 50',\n",
       " 'US Code - Title 51',\n",
       " 'US Code - Title 52',\n",
       " 'US Code - Title 54',\n",
       " 'US Code - Title 6',\n",
       " 'US Code - Title 7',\n",
       " 'US Code - Title 8',\n",
       " 'US Code - Title 9'}"
      ]
     },
     "execution_count": 3,
     "metadata": {},
     "output_type": "execute_result"
    }
   ],
   "source": [
    "set(Term.objects.values_list('source', flat=True))"
   ]
  },
  {
   "cell_type": "markdown",
   "metadata": {},
   "source": [
    "### Delete redundant term sets by their source name"
   ]
  },
  {
   "cell_type": "code",
   "execution_count": 6,
   "metadata": {},
   "outputs": [
    {
     "data": {
      "text/plain": [
       "13991"
      ]
     },
     "execution_count": 6,
     "metadata": {},
     "output_type": "execute_result"
    }
   ],
   "source": [
    "Term.objects.filter(source__contains=\"Legal\").count()"
   ]
  },
  {
   "cell_type": "code",
   "execution_count": 8,
   "metadata": {},
   "outputs": [
    {
     "data": {
      "text/plain": [
       "(5133788, {'extract.Term': 16007, 'extract.TermUsage': 5117781})"
      ]
     },
     "execution_count": 8,
     "metadata": {},
     "output_type": "execute_result"
    }
   ],
   "source": [
    "Term.objects.filter(source__contains=\"US Code\").delete()"
   ]
  },
  {
   "cell_type": "code",
   "execution_count": 9,
   "metadata": {},
   "outputs": [
    {
     "data": {
      "text/plain": [
       "(1771277, {'extract.Term': 1465, 'extract.TermUsage': 1769812})"
      ]
     },
     "execution_count": 9,
     "metadata": {},
     "output_type": "execute_result"
    }
   ],
   "source": [
    "Term.objects.filter(source__contains=\"Accounting - FASB\").delete()"
   ]
  },
  {
   "cell_type": "code",
   "execution_count": 10,
   "metadata": {},
   "outputs": [
    {
     "data": {
      "text/plain": [
       "(192123, {'extract.Term': 849, 'extract.TermUsage': 191274})"
      ]
     },
     "execution_count": 10,
     "metadata": {},
     "output_type": "execute_result"
    }
   ],
   "source": [
    "Term.objects.filter(source__contains=\"Accounting - GASB\").delete()"
   ]
  },
  {
   "cell_type": "code",
   "execution_count": 11,
   "metadata": {},
   "outputs": [
    {
     "data": {
      "text/plain": [
       "(226020, {'extract.Term': 242, 'extract.TermUsage': 225778})"
      ]
     },
     "execution_count": 11,
     "metadata": {},
     "output_type": "execute_result"
    }
   ],
   "source": [
    "Term.objects.filter(source__contains=\"Accounting - IFRS\").delete()"
   ]
  },
  {
   "cell_type": "code",
   "execution_count": 12,
   "metadata": {},
   "outputs": [
    {
     "data": {
      "text/plain": [
       "(26177, {'extract.Term': 229, 'extract.TermUsage': 25948})"
      ]
     },
     "execution_count": 12,
     "metadata": {},
     "output_type": "execute_result"
    }
   ],
   "source": [
    "Term.objects.filter(source__contains=\"Accounting - UK GAAP\").delete()"
   ]
  },
  {
   "cell_type": "code",
   "execution_count": 18,
   "metadata": {},
   "outputs": [
    {
     "data": {
      "text/plain": [
       "(1825, {'extract.Term': 106, 'extract.TermUsage': 1719})"
      ]
     },
     "execution_count": 18,
     "metadata": {},
     "output_type": "execute_result"
    }
   ],
   "source": [
    "Term.objects.filter(source__contains=\"Scientific\").delete()"
   ]
  },
  {
   "cell_type": "markdown",
   "metadata": {},
   "source": [
    "### Check existing term sources with counting"
   ]
  },
  {
   "cell_type": "code",
   "execution_count": 19,
   "metadata": {},
   "outputs": [
    {
     "data": {
      "text/html": [
       "<div>\n",
       "<style scoped>\n",
       "    .dataframe tbody tr th:only-of-type {\n",
       "        vertical-align: middle;\n",
       "    }\n",
       "\n",
       "    .dataframe tbody tr th {\n",
       "        vertical-align: top;\n",
       "    }\n",
       "\n",
       "    .dataframe thead th {\n",
       "        text-align: right;\n",
       "    }\n",
       "</style>\n",
       "<table border=\"1\" class=\"dataframe\">\n",
       "  <thead>\n",
       "    <tr style=\"text-align: right;\">\n",
       "      <th></th>\n",
       "      <th>count</th>\n",
       "      <th>source</th>\n",
       "    </tr>\n",
       "  </thead>\n",
       "  <tbody>\n",
       "    <tr>\n",
       "      <th>0</th>\n",
       "      <td>714</td>\n",
       "      <td>Accounting - US GAAP</td>\n",
       "    </tr>\n",
       "    <tr>\n",
       "      <th>1</th>\n",
       "      <td>282</td>\n",
       "      <td>Financial</td>\n",
       "    </tr>\n",
       "    <tr>\n",
       "      <th>2</th>\n",
       "      <td>12448</td>\n",
       "      <td>Legal</td>\n",
       "    </tr>\n",
       "    <tr>\n",
       "      <th>3</th>\n",
       "      <td>9</td>\n",
       "      <td>Legal - CFR Title 1</td>\n",
       "    </tr>\n",
       "    <tr>\n",
       "      <th>4</th>\n",
       "      <td>110</td>\n",
       "      <td>Legal - CFR Title 10</td>\n",
       "    </tr>\n",
       "    <tr>\n",
       "      <th>5</th>\n",
       "      <td>3</td>\n",
       "      <td>Legal - CFR Title 11</td>\n",
       "    </tr>\n",
       "    <tr>\n",
       "      <th>6</th>\n",
       "      <td>182</td>\n",
       "      <td>Legal - CFR Title 12</td>\n",
       "    </tr>\n",
       "    <tr>\n",
       "      <th>7</th>\n",
       "      <td>20</td>\n",
       "      <td>Legal - CFR Title 13</td>\n",
       "    </tr>\n",
       "    <tr>\n",
       "      <th>8</th>\n",
       "      <td>42</td>\n",
       "      <td>Legal - CFR Title 14</td>\n",
       "    </tr>\n",
       "    <tr>\n",
       "      <th>9</th>\n",
       "      <td>59</td>\n",
       "      <td>Legal - CFR Title 15</td>\n",
       "    </tr>\n",
       "    <tr>\n",
       "      <th>10</th>\n",
       "      <td>3</td>\n",
       "      <td>Legal - CFR Title 16</td>\n",
       "    </tr>\n",
       "    <tr>\n",
       "      <th>11</th>\n",
       "      <td>55</td>\n",
       "      <td>Legal - CFR Title 17</td>\n",
       "    </tr>\n",
       "    <tr>\n",
       "      <th>12</th>\n",
       "      <td>27</td>\n",
       "      <td>Legal - CFR Title 18</td>\n",
       "    </tr>\n",
       "    <tr>\n",
       "      <th>13</th>\n",
       "      <td>148</td>\n",
       "      <td>Legal - CFR Title 19</td>\n",
       "    </tr>\n",
       "    <tr>\n",
       "      <th>14</th>\n",
       "      <td>4</td>\n",
       "      <td>Legal - CFR Title 2</td>\n",
       "    </tr>\n",
       "    <tr>\n",
       "      <th>15</th>\n",
       "      <td>41</td>\n",
       "      <td>Legal - CFR Title 20</td>\n",
       "    </tr>\n",
       "    <tr>\n",
       "      <th>16</th>\n",
       "      <td>16</td>\n",
       "      <td>Legal - CFR Title 21</td>\n",
       "    </tr>\n",
       "    <tr>\n",
       "      <th>17</th>\n",
       "      <td>5</td>\n",
       "      <td>Legal - CFR Title 22</td>\n",
       "    </tr>\n",
       "    <tr>\n",
       "      <th>18</th>\n",
       "      <td>18</td>\n",
       "      <td>Legal - CFR Title 24</td>\n",
       "    </tr>\n",
       "    <tr>\n",
       "      <th>19</th>\n",
       "      <td>29</td>\n",
       "      <td>Legal - CFR Title 25</td>\n",
       "    </tr>\n",
       "    <tr>\n",
       "      <th>20</th>\n",
       "      <td>426</td>\n",
       "      <td>Legal - CFR Title 26</td>\n",
       "    </tr>\n",
       "    <tr>\n",
       "      <th>21</th>\n",
       "      <td>9</td>\n",
       "      <td>Legal - CFR Title 27</td>\n",
       "    </tr>\n",
       "    <tr>\n",
       "      <th>22</th>\n",
       "      <td>2</td>\n",
       "      <td>Legal - CFR Title 4</td>\n",
       "    </tr>\n",
       "    <tr>\n",
       "      <th>23</th>\n",
       "      <td>47</td>\n",
       "      <td>Legal - CFR Title 5</td>\n",
       "    </tr>\n",
       "    <tr>\n",
       "      <th>24</th>\n",
       "      <td>6</td>\n",
       "      <td>Legal - CFR Title 6</td>\n",
       "    </tr>\n",
       "    <tr>\n",
       "      <th>25</th>\n",
       "      <td>247</td>\n",
       "      <td>Legal - CFR Title 7</td>\n",
       "    </tr>\n",
       "    <tr>\n",
       "      <th>26</th>\n",
       "      <td>16</td>\n",
       "      <td>Legal - CFR Title 8</td>\n",
       "    </tr>\n",
       "    <tr>\n",
       "      <th>27</th>\n",
       "      <td>19</td>\n",
       "      <td>Legal - CFR Title 9</td>\n",
       "    </tr>\n",
       "  </tbody>\n",
       "</table>\n",
       "</div>"
      ],
      "text/plain": [
       "    count                source\n",
       "0     714  Accounting - US GAAP\n",
       "1     282             Financial\n",
       "2   12448                 Legal\n",
       "3       9   Legal - CFR Title 1\n",
       "4     110  Legal - CFR Title 10\n",
       "5       3  Legal - CFR Title 11\n",
       "6     182  Legal - CFR Title 12\n",
       "7      20  Legal - CFR Title 13\n",
       "8      42  Legal - CFR Title 14\n",
       "9      59  Legal - CFR Title 15\n",
       "10      3  Legal - CFR Title 16\n",
       "11     55  Legal - CFR Title 17\n",
       "12     27  Legal - CFR Title 18\n",
       "13    148  Legal - CFR Title 19\n",
       "14      4   Legal - CFR Title 2\n",
       "15     41  Legal - CFR Title 20\n",
       "16     16  Legal - CFR Title 21\n",
       "17      5  Legal - CFR Title 22\n",
       "18     18  Legal - CFR Title 24\n",
       "19     29  Legal - CFR Title 25\n",
       "20    426  Legal - CFR Title 26\n",
       "21      9  Legal - CFR Title 27\n",
       "22      2   Legal - CFR Title 4\n",
       "23     47   Legal - CFR Title 5\n",
       "24      6   Legal - CFR Title 6\n",
       "25    247   Legal - CFR Title 7\n",
       "26     16   Legal - CFR Title 8\n",
       "27     19   Legal - CFR Title 9"
      ]
     },
     "execution_count": 19,
     "metadata": {},
     "output_type": "execute_result"
    }
   ],
   "source": [
    "pd.DataFrame.from_records(Term.objects.values('source').order_by('source').annotate(count=Count('pk')))\n"
   ]
  },
  {
   "cell_type": "markdown",
   "metadata": {},
   "source": [
    "### Count total number of terms"
   ]
  },
  {
   "cell_type": "code",
   "execution_count": 20,
   "metadata": {},
   "outputs": [
    {
     "data": {
      "text/plain": [
       "14987"
      ]
     },
     "execution_count": 20,
     "metadata": {},
     "output_type": "execute_result"
    }
   ],
   "source": [
    "Term.objects.count()"
   ]
  },
  {
   "cell_type": "code",
   "execution_count": null,
   "metadata": {},
   "outputs": [],
   "source": []
  }
 ],
 "metadata": {
  "kernelspec": {
   "display_name": "Python 3",
   "language": "python",
   "name": "python3"
  },
  "language_info": {
   "codemirror_mode": {
    "name": "ipython",
    "version": 3
   },
   "file_extension": ".py",
   "mimetype": "text/x-python",
   "name": "python",
   "nbconvert_exporter": "python",
   "pygments_lexer": "ipython3",
   "version": "3.6.8"
  }
 },
 "nbformat": 4,
 "nbformat_minor": 2
}
